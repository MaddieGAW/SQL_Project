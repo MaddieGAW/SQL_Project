{
 "cells": [
  {
   "cell_type": "code",
   "execution_count": 1,
   "id": "d83abfc4-d404-4c22-8ce7-64ffbfdb3924",
   "metadata": {},
   "outputs": [],
   "source": [
    "import requests\n",
    "import json"
   ]
  },
  {
   "cell_type": "code",
   "execution_count": 2,
   "id": "06719a10-f704-47f1-b268-16ed77e8bbee",
   "metadata": {},
   "outputs": [
    {
     "name": "stdout",
     "output_type": "stream",
     "text": [
      "Congratulations! Request successful! Processing the data.\n",
      "Event type: Explosions/Remote violence, Fatalities: 14136\n",
      "Event type: Battles, Fatalities: 473\n",
      "Event type: Strategic developments, Fatalities: 1\n",
      "Event type: Violence against civilians, Fatalities: 239\n",
      "Event type: Riots, Fatalities: 52\n",
      "Event type: Protests, Fatalities: 0\n",
      "Total Fatalities: 14901\n"
     ]
    }
   ],
   "source": [
    "import requests\n",
    "import csv\n",
    "from collections import defaultdict\n",
    "\n",
    "# Create a dictionary of parameters.\n",
    "parameters = {\n",
    "  \"email\": \"madison@madisonwells.co.uk\",\n",
    "  \"key\": \"Fo3IDO3l9j4sKbAFUZBy\",\n",
    "  \"country\": \"Palestine\",\n",
    "  \"year\": 2023,\n",
    "  \"fields\": \"event_id_cnty|event_date|event_type|country|fatalities\"\n",
    "}\n",
    "\n",
    "# Request the data as a CSV file and pass our parameters as an argument (params=)\n",
    "response_params_dic = requests.get(\"https://api.acleddata.com/acled/read.csv?\", params=parameters)\n",
    "\n",
    "# Check if the request was successful (status code 200)\n",
    "if response_params_dic.status_code == 200:\n",
    "    print(\"Congratulations! Request successful! Processing the data.\")\n",
    "    \n",
    "    # Initialize a defaultdict to store fatalities count per event type\n",
    "    fatalities_per_event_type = defaultdict(int)\n",
    "    total_fatalities = 0\n",
    "    \n",
    "    # Parse the CSV data\n",
    "    csv_data = response_params_dic.text.strip().split('\\n')\n",
    "    csv_reader = csv.DictReader(csv_data)\n",
    "    \n",
    "    # Iterate over each row and aggregate fatalities count per event type\n",
    "    for row in csv_reader:\n",
    "        event_type = row['event_type']\n",
    "        fatalities = int(row['fatalities'])\n",
    "        fatalities_per_event_type[event_type] += fatalities\n",
    "        total_fatalities += fatalities\n",
    "    \n",
    "    # Print the aggregated fatalities count per event type\n",
    "    for event_type, fatalities_count in fatalities_per_event_type.items():\n",
    "        print(f\"Event type: {event_type}, Fatalities: {fatalities_count}\")\n",
    "    \n",
    "    # Print the total fatalities\n",
    "    print(f\"Total Fatalities: {total_fatalities}\")\n",
    "        \n",
    "else:\n",
    "    print(\"Error:\", response_params_dic.status_code)"
   ]
  },
  {
   "cell_type": "code",
   "execution_count": 3,
   "id": "0ceb096c-588b-421d-8734-24e651f7be6f",
   "metadata": {},
   "outputs": [
    {
     "name": "stdout",
     "output_type": "stream",
     "text": [
      "Congratulations! Request successful! Processing the data.\n",
      "Total Events: 5000\n",
      "Total Fatalities: 14901\n"
     ]
    }
   ],
   "source": [
    "import requests\n",
    "import csv\n",
    "\n",
    "# Create a dictionary of parameters.\n",
    "parameters = {\n",
    "  \"email\": \"madison@madisonwells.co.uk\",\n",
    "  \"key\": \"Fo3IDO3l9j4sKbAFUZBy\",\n",
    "  \"country\": \"Palestine\",\n",
    "  \"year\": 2023,\n",
    "  \"fields\": \"event_id_cnty|event_date|event_type|country|fatalities\"\n",
    "}\n",
    "\n",
    "# Request the data as a CSV file and pass our parameters as an argument (params=)\n",
    "response_params_dic = requests.get(\"https://api.acleddata.com/acled/read.csv?\", params=parameters)\n",
    "\n",
    "# Check if the request was successful (status code 200)\n",
    "if response_params_dic.status_code == 200:\n",
    "    print(\"Congratulations! Request successful! Processing the data.\")\n",
    "    \n",
    "    # Initialize variables to store total events and total fatalities\n",
    "    total_events = 0\n",
    "    total_fatalities = 0\n",
    "    \n",
    "    # Parse the CSV data\n",
    "    csv_data = response_params_dic.text.strip().split('\\n')\n",
    "    csv_reader = csv.DictReader(csv_data)\n",
    "    \n",
    "    # Iterate over each row and calculate total events and total fatalities\n",
    "    for row in csv_reader:\n",
    "        total_events += 1\n",
    "        total_fatalities += int(row['fatalities'])\n",
    "    \n",
    "    # Print the total events and total fatalities\n",
    "    print(f\"Total Events: {total_events}\")\n",
    "    print(f\"Total Fatalities: {total_fatalities}\")\n",
    "        \n",
    "else:\n",
    "    print(\"Error:\", response_params_dic.status_code)\n"
   ]
  },
  {
   "cell_type": "code",
   "execution_count": 4,
   "id": "34154562-4300-481f-abef-a3d9837f6884",
   "metadata": {},
   "outputs": [
    {
     "name": "stdout",
     "output_type": "stream",
     "text": [
      "Congratulations! Request successful! Processing the data.\n",
      "Total Events: 5000\n",
      "Total Fatalities: 2539\n"
     ]
    }
   ],
   "source": [
    "import requests\n",
    "import csv\n",
    "\n",
    "# Create a dictionary of parameters.\n",
    "parameters = {\n",
    "  \"email\": \"madison@madisonwells.co.uk\",\n",
    "  \"key\": \"Fo3IDO3l9j4sKbAFUZBy\",\n",
    "  \"country\": \"Yemen\",\n",
    "  \"year\": 2023,\n",
    "  \"fields\": \"event_id_cnty|event_date|event_type|country|fatalities\"\n",
    "}\n",
    "\n",
    "# Request the data as a CSV file and pass our parameters as an argument (params=)\n",
    "response_params_dic = requests.get(\"https://api.acleddata.com/acled/read.csv?\", params=parameters)\n",
    "\n",
    "# Check if the request was successful (status code 200)\n",
    "if response_params_dic.status_code == 200:\n",
    "    print(\"Congratulations! Request successful! Processing the data.\")\n",
    "    \n",
    "    # Initialize variables to store total events and total fatalities\n",
    "    total_events = 0\n",
    "    total_fatalities = 0\n",
    "    \n",
    "    # Parse the CSV data\n",
    "    csv_data = response_params_dic.text.strip().split('\\n')\n",
    "    csv_reader = csv.DictReader(csv_data)\n",
    "    \n",
    "    # Iterate over each row and calculate total events and total fatalities\n",
    "    for row in csv_reader:\n",
    "        total_events += 1\n",
    "        total_fatalities += int(row['fatalities'])\n",
    "    \n",
    "    # Print the total events and total fatalities\n",
    "    print(f\"Total Events: {total_events}\")\n",
    "    print(f\"Total Fatalities: {total_fatalities}\")\n",
    "        \n",
    "else:\n",
    "    print(\"Error:\", response_params_dic.status_code)\n"
   ]
  },
  {
   "cell_type": "code",
   "execution_count": 5,
   "id": "26834a5b-59e2-45bd-84e3-353acd6eb5d3",
   "metadata": {},
   "outputs": [
    {
     "name": "stdout",
     "output_type": "stream",
     "text": [
      "Fetching data. Please wait...\n"
     ]
    },
    {
     "ename": "KeyError",
     "evalue": "'x-total-count'",
     "output_type": "error",
     "traceback": [
      "\u001b[0;31m---------------------------------------------------------------------------\u001b[0m",
      "\u001b[0;31mKeyError\u001b[0m                                  Traceback (most recent call last)",
      "Cell \u001b[0;32mIn[5], line 43\u001b[0m\n\u001b[1;32m     40\u001b[0m fetched_records \u001b[38;5;241m+\u001b[39m\u001b[38;5;241m=\u001b[39m \u001b[38;5;28mlen\u001b[39m(csv_data) \u001b[38;5;241m-\u001b[39m \u001b[38;5;241m1\u001b[39m  \u001b[38;5;66;03m# Subtract 1 for the header row\u001b[39;00m\n\u001b[1;32m     42\u001b[0m \u001b[38;5;66;03m# Check if all records have been fetched\u001b[39;00m\n\u001b[0;32m---> 43\u001b[0m \u001b[38;5;28;01mif\u001b[39;00m fetched_records \u001b[38;5;241m>\u001b[39m\u001b[38;5;241m=\u001b[39m \u001b[38;5;28mint\u001b[39m(response_params_dic\u001b[38;5;241m.\u001b[39mheaders[\u001b[38;5;124m'\u001b[39m\u001b[38;5;124mX-Total-Count\u001b[39m\u001b[38;5;124m'\u001b[39m]):\n\u001b[1;32m     44\u001b[0m     \u001b[38;5;28;01mbreak\u001b[39;00m\n\u001b[1;32m     46\u001b[0m \u001b[38;5;66;03m# Update the 'offset' parameter to fetch the next set of records\u001b[39;00m\n",
      "File \u001b[0;32m/opt/anaconda3/lib/python3.11/site-packages/requests/structures.py:52\u001b[0m, in \u001b[0;36mCaseInsensitiveDict.__getitem__\u001b[0;34m(self, key)\u001b[0m\n\u001b[1;32m     51\u001b[0m \u001b[38;5;28;01mdef\u001b[39;00m \u001b[38;5;21m__getitem__\u001b[39m(\u001b[38;5;28mself\u001b[39m, key):\n\u001b[0;32m---> 52\u001b[0m     \u001b[38;5;28;01mreturn\u001b[39;00m \u001b[38;5;28mself\u001b[39m\u001b[38;5;241m.\u001b[39m_store[key\u001b[38;5;241m.\u001b[39mlower()][\u001b[38;5;241m1\u001b[39m]\n",
      "\u001b[0;31mKeyError\u001b[0m: 'x-total-count'"
     ]
    }
   ],
   "source": [
    "import requests\n",
    "import csv\n",
    "\n",
    "# Create a dictionary of parameters.\n",
    "parameters = {\n",
    "  \"email\": \"madison@madisonwells.co.uk\",\n",
    "  \"key\": \"Fo3IDO3l9j4sKbAFUZBy\",\n",
    "  \"country\": \"Yemen\",\n",
    "  \"year\": 2023,\n",
    "  \"fields\": \"event_id_cnty|event_date|event_type|country|fatalities\",\n",
    "  \"limit\": 1000,  # Adjust the limit to the maximum allowed by the API\n",
    "}\n",
    "\n",
    "# Initialize variables to store total events and total fatalities\n",
    "total_events = 0\n",
    "total_fatalities = 0\n",
    "\n",
    "# Initialize a variable to track the number of fetched records\n",
    "fetched_records = 0\n",
    "\n",
    "# Fetch data until all records are fetched\n",
    "while True:\n",
    "    # Request the data as a CSV file and pass our parameters as an argument (params=)\n",
    "    response_params_dic = requests.get(\"https://api.acleddata.com/acled/read.csv?\", params=parameters)\n",
    "\n",
    "    # Check if the request was successful (status code 200)\n",
    "    if response_params_dic.status_code == 200:\n",
    "        print(\"Fetching data. Please wait...\")\n",
    "        \n",
    "        # Parse the CSV data\n",
    "        csv_data = response_params_dic.text.strip().split('\\n')\n",
    "        csv_reader = csv.DictReader(csv_data)\n",
    "        \n",
    "        # Iterate over each row and calculate total events and total fatalities\n",
    "        for row in csv_reader:\n",
    "            total_events += 1\n",
    "            total_fatalities += int(row['fatalities'])\n",
    "        \n",
    "        # Update the number of fetched records\n",
    "        fetched_records += len(csv_data) - 1  # Subtract 1 for the header row\n",
    "        \n",
    "        # Check if all records have been fetched\n",
    "        if fetched_records >= int(response_params_dic.headers['X-Total-Count']):\n",
    "            break\n",
    "        \n",
    "        # Update the 'offset' parameter to fetch the next set of records\n",
    "        parameters['offset'] = fetched_records\n",
    "        \n",
    "    else:\n",
    "        print(\"Error:\", response_params_dic.status_code)\n",
    "        break\n",
    "\n",
    "# Print the total events and total fatalities\n",
    "print(f\"Total Events: {total_events}\")\n",
    "print(f\"Total Fatalities: {total_fatalities}\")\n"
   ]
  },
  {
   "cell_type": "code",
   "execution_count": 7,
   "id": "e192be8a-452e-4574-b990-cbbab71cfa11",
   "metadata": {},
   "outputs": [
    {
     "name": "stdout",
     "output_type": "stream",
     "text": [
      "Fetching data. Please wait...\n",
      "Fetching data. Please wait...\n",
      "Fetching data. Please wait...\n",
      "Fetching data. Please wait...\n",
      "Fetching data. Please wait...\n",
      "Fetching data. Please wait...\n",
      "Fetching data. Please wait...\n",
      "Fetching data. Please wait...\n",
      "Fetching data. Please wait...\n",
      "Fetching data. Please wait...\n",
      "Total Events: 50000\n",
      "Total Fatalities: 149010\n"
     ]
    }
   ],
   "source": [
    "import requests\n",
    "import csv\n",
    "\n",
    "# Create a dictionary of parameters.\n",
    "parameters = {\n",
    "  \"email\": \"madison@madisonwells.co.uk\",\n",
    "  \"key\": \"Fo3IDO3l9j4sKbAFUZBy\",\n",
    "  \"country\": \"Palestine\",\n",
    "  \"year\": 2023,\n",
    "  \"fields\": \"event_id_cnty|event_date|event_type|country|fatalities\",\n",
    "  \"limit\": 5000,  # Adjust the limit to the maximum allowed by the API\n",
    "}\n",
    "\n",
    "# Initialize variables to store total events and total fatalities\n",
    "total_events = 0\n",
    "total_fatalities = 0\n",
    "\n",
    "# Initialize a variable to track the number of fetched records\n",
    "fetched_records = 0\n",
    "\n",
    "# Set a maximum number of iterations to prevent an infinite loop\n",
    "max_iterations = 10\n",
    "\n",
    "# Fetch data until all records are fetched or maximum iterations reached\n",
    "for _ in range(max_iterations):\n",
    "    # Request the data as a CSV file and pass our parameters as an argument (params=)\n",
    "    response_params_dic = requests.get(\"https://api.acleddata.com/acled/read.csv?\", params=parameters)\n",
    "\n",
    "    # Check if the request was successful (status code 200)\n",
    "    if response_params_dic.status_code == 200:\n",
    "        print(\"Fetching data. Please wait...\")\n",
    "        \n",
    "        # Parse the CSV data\n",
    "        csv_data = response_params_dic.text.strip().split('\\n')\n",
    "        csv_reader = csv.DictReader(csv_data)\n",
    "        \n",
    "        # Iterate over each row and calculate total events and total fatalities\n",
    "        for row in csv_reader:\n",
    "            total_events += 1\n",
    "            total_fatalities += int(row['fatalities'])\n",
    "        \n",
    "        # Update the number of fetched records\n",
    "        fetched_records += len(csv_data) - 1  # Subtract 1 for the header row\n",
    "        \n",
    "        # Check if all records have been fetched\n",
    "        if len(csv_data) < parameters['limit']:\n",
    "            break\n",
    "        \n",
    "        # Update the 'offset' parameter to fetch the next set of records\n",
    "        parameters['offset'] = fetched_records\n",
    "        \n",
    "    else:\n",
    "        print(\"Error:\", response_params_dic.status_code)\n",
    "        break\n",
    "\n",
    "# Print the total events and total fatalities\n",
    "print(f\"Total Events: {total_events}\")\n",
    "print(f\"Total Fatalities: {total_fatalities}\")\n"
   ]
  },
  {
   "cell_type": "markdown",
   "id": "62b84dd8-e9d3-4a74-9995-2d6029ec0de7",
   "metadata": {},
   "source": [
    "## BREAK"
   ]
  },
  {
   "cell_type": "code",
   "execution_count": 8,
   "id": "d930e17c-22d0-4426-a9dd-a4dd0a54f11a",
   "metadata": {},
   "outputs": [],
   "source": [
    "import requests\n",
    "\n",
    "def get_country_events_and_fatalities(country, year):\n",
    "    base_url = \"https://ucdpapi.pcr.uu.se/api/gedevents/23.1\"\n",
    "    params = {\n",
    "        \"pagesize\": 1,  # We only need one page to get the total count\n",
    "        \"page\": 1,\n",
    "        \"country\": country,\n",
    "        \"year\": year\n",
    "    }\n",
    "\n",
    "    response = requests.get(base_url, params=params)\n",
    "    data = response.json()\n",
    "\n",
    "    if 'Result' in data:\n",
    "        country_events = data['TotalCount']\n",
    "        country_fatalities = sum(event.get('deaths_a', 0) for event in data['Result'])\n",
    "    else:\n",
    "        country_events = 0\n",
    "        country_fatalities = 0\n",
    "\n",
    "    return country_events, country_fatalities\n",
    "\n",
    "def get_global_events_and_fatalities():\n",
    "    base_url = \"https://ucdpapi.pcr.uu.se/api/gedevents/23.1\"\n",
    "    params = {\n",
    "        \"pagesize\": 1,  # We only need one page to get the total count\n",
    "        \"page\": 1\n",
    "    }\n",
    "\n",
    "    response = requests.get(base_url, params=params)\n",
    "    data = response.json()\n",
    "\n",
    "    if 'TotalCount' in data:\n",
    "        global_events = data['TotalCount']\n",
    "        global_fatalities = sum(event.get('deaths_a', 0) for event in data['Result'])\n",
    "    else:\n",
    "        global_events = 0\n",
    "        global_fatalities = 0\n",
    "\n",
    "    return global_events, global_fatalities"
   ]
  },
  {
   "cell_type": "code",
   "execution_count": 10,
   "id": "bc03a32c-cf03-448c-8e8d-57e9ec88b853",
   "metadata": {},
   "outputs": [
    {
     "data": {
      "text/plain": [
       "(0, 0)"
      ]
     },
     "execution_count": 10,
     "metadata": {},
     "output_type": "execute_result"
    }
   ],
   "source": [
    "get_country_events_and_fatalities(\"palestine\", 2023)"
   ]
  },
  {
   "cell_type": "code",
   "execution_count": null,
   "id": "fb73cbcb-5371-48b4-a35f-8782d677a74f",
   "metadata": {},
   "outputs": [],
   "source": []
  },
  {
   "cell_type": "code",
   "execution_count": null,
   "id": "e652531a-09fd-42db-adbc-10f400e9c75f",
   "metadata": {},
   "outputs": [],
   "source": [
    "def main():\n",
    "    country = input(\"Enter the country: \")\n",
    "    year = input(\"Enter the year: \")\n",
    "\n",
    "    country_events, country_fatalities = get_country_events_and_fatalities(country, year)\n",
    "    global_events, global_fatalities = get_global_events_and_fatalities()\n",
    "\n",
    "    print(f\"Number of events in {country} in {year}: {country_events}\")\n",
    "    print(f\"Number of fatalities in {country} in {year}: {country_fatalities}\")\n",
    "    print(f\"Number of global events: {global_events}\")\n",
    "    print(f\"Number of global fatalities: {global_fatalities}\")\n",
    "\n",
    "if __name__ == \"__main__\":\n",
    "    main()\n"
   ]
  },
  {
   "cell_type": "code",
   "execution_count": 13,
   "id": "bdceccd1-7c79-4b6d-b6a6-27c2fa5ce4ae",
   "metadata": {},
   "outputs": [
    {
     "ename": "SyntaxError",
     "evalue": "unterminated string literal (detected at line 37) (1996622324.py, line 37)",
     "output_type": "error",
     "traceback": [
      "\u001b[0;36m  Cell \u001b[0;32mIn[13], line 37\u001b[0;36m\u001b[0m\n\u001b[0;31m    global_fatalities = sum(event.get('deaths_a', 'deaths_b\", \"deaths_civilians\" , \"deaths_unknown\", 0) for event in data['Result'])\u001b[0m\n\u001b[0m                                                                                                                                 ^\u001b[0m\n\u001b[0;31mSyntaxError\u001b[0m\u001b[0;31m:\u001b[0m unterminated string literal (detected at line 37)\n"
     ]
    }
   ],
   "source": [
    "import requests\n",
    "\n",
    "def get_country_events_and_fatalities(country, year):\n",
    "    base_url = \"https://ucdpapi.pcr.uu.se/api/gedevents/23.1\"\n",
    "    params = {\n",
    "        \"pagesize\": 1,  # We only need one page to get the total count\n",
    "        \"page\": 1,\n",
    "        \"country\": country,\n",
    "        \"year\": year\n",
    "    }\n",
    "\n",
    "    response = requests.get(base_url, params=params)\n",
    "    data = response.json()\n",
    "\n",
    "    if 'Result' in data:\n",
    "        country_events = data['TotalCount']\n",
    "        country_fatalities = sum(event.get('deaths_a', 0) for event in data['Result'])\n",
    "    else:\n",
    "        country_events = 0\n",
    "        country_fatalities = 0\n",
    "\n",
    "    return country_events, country_fatalities\n",
    "\n",
    "def get_global_events_and_fatalities(year):\n",
    "    base_url = \"https://ucdpapi.pcr.uu.se/api/gedevents/23.1\"\n",
    "    params = {\n",
    "        \"pagesize\": 1,  # We only need one page to get the total count\n",
    "        \"page\": 1,\n",
    "        \"year\": year\n",
    "    }\n",
    "\n",
    "    response = requests.get(base_url, params=params)\n",
    "    data = response.json()\n",
    "\n",
    "    if 'TotalCount' in data:\n",
    "        global_events = data['TotalCount']\n",
    "        global_fatalities = sum(event.get('deaths_a', 'deaths_b\", \"deaths_civilians\" , \"deaths_unknown\", 0) for event in data['Result'])\n",
    "    else:\n",
    "        global_events = 0\n",
    "        global_fatalities = 0\n",
    "\n",
    "    return global_events, global_fatalities\n"
   ]
  },
  {
   "cell_type": "code",
   "execution_count": 14,
   "id": "6fae3ae2-d05c-4e3c-96ea-09eaca59b8e0",
   "metadata": {},
   "outputs": [],
   "source": [
    "import requests\n",
    "\n",
    "def get_country_events_and_fatalities(country, year):\n",
    "    base_url = \"https://ucdpapi.pcr.uu.se/api/gedevents/23.1\"\n",
    "    params = {\n",
    "        \"pagesize\": 1,\n",
    "        \"page\": 1,\n",
    "        \"country\": country,\n",
    "        \"year\": year\n",
    "    }\n",
    "\n",
    "    response = requests.get(base_url, params=params)\n",
    "    data = response.json()\n",
    "\n",
    "    if 'Result' in data:\n",
    "        country_events = data['TotalCount']\n",
    "        country_fatalities = sum(event.get('deaths_a', 0) for event in data['Result'])\n",
    "    else:\n",
    "        country_events = 0\n",
    "        country_fatalities = 0\n",
    "\n",
    "    return country_events, country_fatalities\n",
    "\n",
    "def get_global_events_and_fatalities(year):\n",
    "    base_url = \"https://ucdpapi.pcr.uu.se/api/gedevents/23.1\"\n",
    "    params = {\n",
    "        \"pagesize\": 1,\n",
    "        \"page\": 1,\n",
    "        \"year\": year\n",
    "    }\n",
    "\n",
    "    response = requests.get(base_url, params=params)\n",
    "    data = response.json()\n",
    "\n",
    "    if 'TotalCount' in data:\n",
    "        global_events = data['TotalCount']\n",
    "        global_fatalities = sum(event.get(key, 0) for event in data['Result'] for key in ['deaths_a', 'deaths_b', 'deaths_civilians', 'deaths_unknown'])\n",
    "    else:\n",
    "        global_events = 0\n",
    "        global_fatalities = 0\n",
    "\n",
    "    return global_events, global_fatalities\n"
   ]
  },
  {
   "cell_type": "code",
   "execution_count": 16,
   "id": "0330a61f-c3f9-4fc3-a5d1-b131493bd94e",
   "metadata": {},
   "outputs": [
    {
     "data": {
      "text/plain": [
       "(0, 0)"
      ]
     },
     "execution_count": 16,
     "metadata": {},
     "output_type": "execute_result"
    }
   ],
   "source": [
    "get_country_events_and_fatalities(\"afghanistan\", 2017)"
   ]
  },
  {
   "cell_type": "code",
   "execution_count": 17,
   "id": "a2e63fb0-eafe-4b7d-a6d5-28a94cf71980",
   "metadata": {},
   "outputs": [
    {
     "data": {
      "text/plain": [
       "(316818, 0)"
      ]
     },
     "execution_count": 17,
     "metadata": {},
     "output_type": "execute_result"
    }
   ],
   "source": [
    "get_global_events_and_fatalities(2020)"
   ]
  },
  {
   "cell_type": "code",
   "execution_count": null,
   "id": "d6e4f357-14dd-446b-95ba-de02e7899afb",
   "metadata": {},
   "outputs": [],
   "source": []
  },
  {
   "cell_type": "code",
   "execution_count": 19,
   "id": "1658a201-0d51-4841-8ac8-d5295eb5c2cb",
   "metadata": {},
   "outputs": [],
   "source": [
    "import requests\n",
    "import pandas as pd\n",
    "\n",
    "def fetch_acled_data(country, year):\n",
    "    base_url = \"https://api.acleddata.com/acled/read\"\n",
    "    params = {\n",
    "        \"email\": \"madison@madisonwells.co.uk\",\n",
    "        \"key\": \"Fo3IDO3l9j4sKbAFUZBy\",\n",
    "        \"terms\": \"accept\",\n",
    "        \"iso\": country,\n",
    "        \"year\": year,\n",
    "        \"limit\": 500,  \n",
    "        \"page\": 1\n",
    "    }\n",
    "    \n",
    "    # Initialize data collection\n",
    "    all_data = []\n",
    "    total_global_events = 0\n",
    "    total_global_fatalities = 0\n",
    "    \n",
    "    while True:\n",
    "        response = requests.get(base_url, params=params)\n",
    "        data = response.json()\n",
    "        \n",
    "        # Check for successful response\n",
    "        if not data.get('success', False):\n",
    "            break\n",
    "        \n",
    "        # Add data to the list\n",
    "        all_data.extend(data['data'])\n",
    "        params['page'] += 1  # Next page\n",
    "        \n",
    "        # Check if the last page\n",
    "        if len(data['data']) < params['limit']:\n",
    "            break\n",
    "\n",
    "    # Convert data to DataFrame\n",
    "    df = pd.DataFrame(all_data)\n",
    "    \n",
    "    if not df.empty:\n",
    "        # Filter by country and calculate statistics\n",
    "        df_country = df[df['country'] == country]\n",
    "        events_by_type = df_country['event_type'].value_counts().to_dict()\n",
    "        fatalities_by_country = df_country['fatalities'].astype(int).sum()\n",
    "        \n",
    "        # Global statistics\n",
    "        total_global_events = df['event_id_no_cnty'].nunique()\n",
    "        total_global_fatalities = df['fatalities'].astype(int).sum()\n",
    "    else:\n",
    "        events_by_type = {}\n",
    "        fatalities_by_country = 0\n",
    "\n",
    "    return {\n",
    "        \"Total Events by Type in Country\": events_by_type,\n",
    "        \"Total Fatalities in Country\": fatalities_by_country,\n",
    "        \"Total Global Events\": total_global_events,\n",
    "        \"Total Global Fatalities\": total_global_fatalities\n",
    "    }\n"
   ]
  },
  {
   "cell_type": "code",
   "execution_count": 20,
   "id": "2a7f2342-edac-4bc0-a7f3-af33c21cd046",
   "metadata": {},
   "outputs": [
    {
     "ename": "KeyError",
     "evalue": "'event_id_no_cnty'",
     "output_type": "error",
     "traceback": [
      "\u001b[0;31m---------------------------------------------------------------------------\u001b[0m",
      "\u001b[0;31mKeyError\u001b[0m                                  Traceback (most recent call last)",
      "File \u001b[0;32m/opt/anaconda3/lib/python3.11/site-packages/pandas/core/indexes/base.py:3791\u001b[0m, in \u001b[0;36mIndex.get_loc\u001b[0;34m(self, key)\u001b[0m\n\u001b[1;32m   3790\u001b[0m \u001b[38;5;28;01mtry\u001b[39;00m:\n\u001b[0;32m-> 3791\u001b[0m     \u001b[38;5;28;01mreturn\u001b[39;00m \u001b[38;5;28mself\u001b[39m\u001b[38;5;241m.\u001b[39m_engine\u001b[38;5;241m.\u001b[39mget_loc(casted_key)\n\u001b[1;32m   3792\u001b[0m \u001b[38;5;28;01mexcept\u001b[39;00m \u001b[38;5;167;01mKeyError\u001b[39;00m \u001b[38;5;28;01mas\u001b[39;00m err:\n",
      "File \u001b[0;32mindex.pyx:152\u001b[0m, in \u001b[0;36mpandas._libs.index.IndexEngine.get_loc\u001b[0;34m()\u001b[0m\n",
      "File \u001b[0;32mindex.pyx:181\u001b[0m, in \u001b[0;36mpandas._libs.index.IndexEngine.get_loc\u001b[0;34m()\u001b[0m\n",
      "File \u001b[0;32mpandas/_libs/hashtable_class_helper.pxi:7080\u001b[0m, in \u001b[0;36mpandas._libs.hashtable.PyObjectHashTable.get_item\u001b[0;34m()\u001b[0m\n",
      "File \u001b[0;32mpandas/_libs/hashtable_class_helper.pxi:7088\u001b[0m, in \u001b[0;36mpandas._libs.hashtable.PyObjectHashTable.get_item\u001b[0;34m()\u001b[0m\n",
      "\u001b[0;31mKeyError\u001b[0m: 'event_id_no_cnty'",
      "\nThe above exception was the direct cause of the following exception:\n",
      "\u001b[0;31mKeyError\u001b[0m                                  Traceback (most recent call last)",
      "Cell \u001b[0;32mIn[20], line 4\u001b[0m\n\u001b[1;32m      2\u001b[0m country_iso \u001b[38;5;241m=\u001b[39m \u001b[38;5;124m'\u001b[39m\u001b[38;5;124mPSE\u001b[39m\u001b[38;5;124m'\u001b[39m  \u001b[38;5;66;03m# e.g., 840 for USA\u001b[39;00m\n\u001b[1;32m      3\u001b[0m year \u001b[38;5;241m=\u001b[39m \u001b[38;5;241m2023\u001b[39m\n\u001b[0;32m----> 4\u001b[0m result \u001b[38;5;241m=\u001b[39m fetch_acled_data(country_iso, year)\n\u001b[1;32m      5\u001b[0m \u001b[38;5;28mprint\u001b[39m(result)\n",
      "Cell \u001b[0;32mIn[19], line 47\u001b[0m, in \u001b[0;36mfetch_acled_data\u001b[0;34m(country, year)\u001b[0m\n\u001b[1;32m     44\u001b[0m     fatalities_by_country \u001b[38;5;241m=\u001b[39m df_country[\u001b[38;5;124m'\u001b[39m\u001b[38;5;124mfatalities\u001b[39m\u001b[38;5;124m'\u001b[39m]\u001b[38;5;241m.\u001b[39mastype(\u001b[38;5;28mint\u001b[39m)\u001b[38;5;241m.\u001b[39msum()\n\u001b[1;32m     46\u001b[0m     \u001b[38;5;66;03m# Global statistics\u001b[39;00m\n\u001b[0;32m---> 47\u001b[0m     total_global_events \u001b[38;5;241m=\u001b[39m df[\u001b[38;5;124m'\u001b[39m\u001b[38;5;124mevent_id_no_cnty\u001b[39m\u001b[38;5;124m'\u001b[39m]\u001b[38;5;241m.\u001b[39mnunique()\n\u001b[1;32m     48\u001b[0m     total_global_fatalities \u001b[38;5;241m=\u001b[39m df[\u001b[38;5;124m'\u001b[39m\u001b[38;5;124mfatalities\u001b[39m\u001b[38;5;124m'\u001b[39m]\u001b[38;5;241m.\u001b[39mastype(\u001b[38;5;28mint\u001b[39m)\u001b[38;5;241m.\u001b[39msum()\n\u001b[1;32m     49\u001b[0m \u001b[38;5;28;01melse\u001b[39;00m:\n",
      "File \u001b[0;32m/opt/anaconda3/lib/python3.11/site-packages/pandas/core/frame.py:3893\u001b[0m, in \u001b[0;36mDataFrame.__getitem__\u001b[0;34m(self, key)\u001b[0m\n\u001b[1;32m   3891\u001b[0m \u001b[38;5;28;01mif\u001b[39;00m \u001b[38;5;28mself\u001b[39m\u001b[38;5;241m.\u001b[39mcolumns\u001b[38;5;241m.\u001b[39mnlevels \u001b[38;5;241m>\u001b[39m \u001b[38;5;241m1\u001b[39m:\n\u001b[1;32m   3892\u001b[0m     \u001b[38;5;28;01mreturn\u001b[39;00m \u001b[38;5;28mself\u001b[39m\u001b[38;5;241m.\u001b[39m_getitem_multilevel(key)\n\u001b[0;32m-> 3893\u001b[0m indexer \u001b[38;5;241m=\u001b[39m \u001b[38;5;28mself\u001b[39m\u001b[38;5;241m.\u001b[39mcolumns\u001b[38;5;241m.\u001b[39mget_loc(key)\n\u001b[1;32m   3894\u001b[0m \u001b[38;5;28;01mif\u001b[39;00m is_integer(indexer):\n\u001b[1;32m   3895\u001b[0m     indexer \u001b[38;5;241m=\u001b[39m [indexer]\n",
      "File \u001b[0;32m/opt/anaconda3/lib/python3.11/site-packages/pandas/core/indexes/base.py:3798\u001b[0m, in \u001b[0;36mIndex.get_loc\u001b[0;34m(self, key)\u001b[0m\n\u001b[1;32m   3793\u001b[0m     \u001b[38;5;28;01mif\u001b[39;00m \u001b[38;5;28misinstance\u001b[39m(casted_key, \u001b[38;5;28mslice\u001b[39m) \u001b[38;5;129;01mor\u001b[39;00m (\n\u001b[1;32m   3794\u001b[0m         \u001b[38;5;28misinstance\u001b[39m(casted_key, abc\u001b[38;5;241m.\u001b[39mIterable)\n\u001b[1;32m   3795\u001b[0m         \u001b[38;5;129;01mand\u001b[39;00m \u001b[38;5;28many\u001b[39m(\u001b[38;5;28misinstance\u001b[39m(x, \u001b[38;5;28mslice\u001b[39m) \u001b[38;5;28;01mfor\u001b[39;00m x \u001b[38;5;129;01min\u001b[39;00m casted_key)\n\u001b[1;32m   3796\u001b[0m     ):\n\u001b[1;32m   3797\u001b[0m         \u001b[38;5;28;01mraise\u001b[39;00m InvalidIndexError(key)\n\u001b[0;32m-> 3798\u001b[0m     \u001b[38;5;28;01mraise\u001b[39;00m \u001b[38;5;167;01mKeyError\u001b[39;00m(key) \u001b[38;5;28;01mfrom\u001b[39;00m \u001b[38;5;21;01merr\u001b[39;00m\n\u001b[1;32m   3799\u001b[0m \u001b[38;5;28;01mexcept\u001b[39;00m \u001b[38;5;167;01mTypeError\u001b[39;00m:\n\u001b[1;32m   3800\u001b[0m     \u001b[38;5;66;03m# If we have a listlike key, _check_indexing_error will raise\u001b[39;00m\n\u001b[1;32m   3801\u001b[0m     \u001b[38;5;66;03m#  InvalidIndexError. Otherwise we fall through and re-raise\u001b[39;00m\n\u001b[1;32m   3802\u001b[0m     \u001b[38;5;66;03m#  the TypeError.\u001b[39;00m\n\u001b[1;32m   3803\u001b[0m     \u001b[38;5;28mself\u001b[39m\u001b[38;5;241m.\u001b[39m_check_indexing_error(key)\n",
      "\u001b[0;31mKeyError\u001b[0m: 'event_id_no_cnty'"
     ]
    }
   ],
   "source": [
    "# Example usage\n",
    "country_iso = 'PSE'  # e.g., 840 for USA\n",
    "year = 2023\n",
    "result = fetch_acled_data(country_iso, year)\n",
    "print(result)"
   ]
  },
  {
   "cell_type": "code",
   "execution_count": 28,
   "id": "279d1e50-5e23-4dae-89cb-93d0347acb5b",
   "metadata": {},
   "outputs": [],
   "source": [
    "import requests\n",
    "import pandas as pd\n",
    "\n",
    "def fetch_acled_data(country, year):\n",
    "    base_url = \"https://api.acleddata.com/acled/read\"\n",
    "    params = {\n",
    "        \"email\": \"madison@madisonwells.co.uk\",\n",
    "        \"key\": \"Fo3IDO3l9j4sKbAFUZBy\",\n",
    "        \"terms\": \"accept\",\n",
    "        \"iso\": country,\n",
    "        \"year\": year,\n",
    "        \"limit\": 500,  \n",
    "        \"page\": 1\n",
    "    }\n",
    "    \n",
    "    all_data = []\n",
    "    \n",
    "    while True:\n",
    "        response = requests.get(base_url, params=params)\n",
    "        data = response.json()\n",
    "        \n",
    "        if not data.get('success', False) or 'data' not in data:\n",
    "            break\n",
    "        \n",
    "        all_data.extend(data['data'])\n",
    "        params['page'] += 1\n",
    "        \n",
    "        if len(data['data']) < params['limit']:\n",
    "            break\n",
    "\n",
    "    df = pd.DataFrame(all_data)\n",
    "    \n",
    "    if not df.empty:\n",
    "        if 'country' in df.columns:\n",
    "            df_country = df[df['country'] == country]\n",
    "        else:\n",
    "            df_country = pd.DataFrame()\n",
    "        \n",
    "        total_fatalities_in_country = df['fatalities'].astype(int).sum() if 'fatalities' in df else 0\n",
    "    else:\n",
    "        total_fatalities_in_country = 0\n",
    "\n",
    "    return {\n",
    "        \"Total Fatalities in Country\": total_fatalities_in_country\n",
    "    }"
   ]
  },
  {
   "cell_type": "code",
   "execution_count": 30,
   "id": "5cd1b257-4c34-46cb-8e66-643105f2dc1a",
   "metadata": {},
   "outputs": [
    {
     "name": "stdout",
     "output_type": "stream",
     "text": [
      "{'Total Fatalities in Country': 22627}\n"
     ]
    }
   ],
   "source": [
    "country_iso = '275' \n",
    "year = 2023\n",
    "result = fetch_acled_data(country_iso, year)\n",
    "print(result)"
   ]
  },
  {
   "cell_type": "code",
   "execution_count": 31,
   "id": "160ad0e8-d521-4567-b6a8-91f84b21a36e",
   "metadata": {},
   "outputs": [
    {
     "name": "stdout",
     "output_type": "stream",
     "text": [
      "{'Total Fatalities in Country': 31150}\n"
     ]
    }
   ],
   "source": [
    "country_iso = '804' \n",
    "year = 2023\n",
    "result = fetch_acled_data(country_iso, year)\n",
    "print(result)"
   ]
  },
  {
   "cell_type": "code",
   "execution_count": null,
   "id": "70009e0b-c0f7-435d-ab51-286558b3e796",
   "metadata": {},
   "outputs": [],
   "source": []
  }
 ],
 "metadata": {
  "kernelspec": {
   "display_name": "Python 3 (ipykernel)",
   "language": "python",
   "name": "python3"
  },
  "language_info": {
   "codemirror_mode": {
    "name": "ipython",
    "version": 3
   },
   "file_extension": ".py",
   "mimetype": "text/x-python",
   "name": "python",
   "nbconvert_exporter": "python",
   "pygments_lexer": "ipython3",
   "version": "3.11.7"
  }
 },
 "nbformat": 4,
 "nbformat_minor": 5
}
